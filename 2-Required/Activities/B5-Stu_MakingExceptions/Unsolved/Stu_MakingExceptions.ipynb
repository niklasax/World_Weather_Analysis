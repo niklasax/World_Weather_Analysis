{
 "cells": [
  {
   "cell_type": "code",
   "execution_count": 7,
   "metadata": {},
   "outputs": [
    {
     "name": "stdout",
     "output_type": "stream",
     "text": [
      "ERROR: Can't divide by 0\n",
      "ERROR: name isnt defined\n",
      "ERROR: Gabriel is not an integer\n",
      "You made it through the gauntlet--the message survived!\n"
     ]
    }
   ],
   "source": [
    "# Your assignment is to get the last line to print without changing any\n",
    "# of the code below. Instead, wrap each line that throws an error in a\n",
    "# try/except block.\n",
    "\n",
    "try:\n",
    "    print(\"Infinity looks like + \" + str(10 / 0) + \".\")\n",
    "except ZeroDivisionError:\n",
    "    print(\"ERROR: Can't divide by 0\")\n",
    "try:\n",
    "    print(\"I think her name was + \" + name + \"?\")\n",
    "except NameError:\n",
    "    print(\"ERROR: name isnt defined\")\n",
    "\n",
    "try:\n",
    "    print(\"ERROR: Your name is a nonsense number. Look: \" + int(\"Gabriel\"))\n",
    "except ValueError:\n",
    "    print(\"ERROR: Gabriel is not an integer\")\n",
    "\n",
    "print(\"You made it through the gauntlet--the message survived!\")"
   ]
  },
  {
   "cell_type": "code",
   "execution_count": null,
   "metadata": {},
   "outputs": [],
   "source": []
  }
 ],
 "metadata": {
  "kernelspec": {
   "display_name": "PythonData",
   "language": "python",
   "name": "pythondata"
  },
  "language_info": {
   "codemirror_mode": {
    "name": "ipython",
    "version": 3
   },
   "file_extension": ".py",
   "mimetype": "text/x-python",
   "name": "python",
   "nbconvert_exporter": "python",
   "pygments_lexer": "ipython3",
   "version": "3.7.7"
  }
 },
 "nbformat": 4,
 "nbformat_minor": 2
}
